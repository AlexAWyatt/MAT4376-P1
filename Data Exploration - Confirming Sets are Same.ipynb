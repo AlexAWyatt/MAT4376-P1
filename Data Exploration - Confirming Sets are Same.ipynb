{
 "cells": [
  {
   "cell_type": "markdown",
   "id": "8493f237",
   "metadata": {},
   "source": [
    "Note: this won't work on your system unless you download the datasets and order them in the same way I have"
   ]
  },
  {
   "cell_type": "code",
   "execution_count": 7,
   "id": "8196d74d",
   "metadata": {},
   "outputs": [],
   "source": [
    "import pandas as pd\n",
    "import numpy as np\n",
    "import io\n",
    "import os"
   ]
  },
  {
   "cell_type": "markdown",
   "id": "65204162",
   "metadata": {},
   "source": [
    "Imports of packages"
   ]
  },
  {
   "cell_type": "code",
   "execution_count": 8,
   "id": "8dcd1df3",
   "metadata": {},
   "outputs": [],
   "source": [
    "#os.chdir(\"C:\\\\Users\\\\Alexa\\\\OneDrive\\\\Ottawa U\\\\Year 4\\\\Fall\\\\MAT4376 - Data Analysis\\\\Project 1\")\n",
    "# set this to wherever the provided dataset is located"
   ]
  },
  {
   "cell_type": "code",
   "execution_count": 9,
   "id": "684756e7",
   "metadata": {},
   "outputs": [
    {
     "data": {
      "text/plain": [
       "'C:\\\\Users\\\\awyat049\\\\OneDrive\\\\Ottawa U\\\\Year 4\\\\Fall\\\\MAT4376 - Data Analysis\\\\Project 1\\\\MAT4376-P1'"
      ]
     },
     "execution_count": 9,
     "metadata": {},
     "output_type": "execute_result"
    }
   ],
   "source": [
    "os.getcwd()"
   ]
  },
  {
   "cell_type": "code",
   "execution_count": 10,
   "id": "c14b0e55",
   "metadata": {},
   "outputs": [],
   "source": [
    "as_data = pd.read_csv('polls_us_election_2016.csv')"
   ]
  },
  {
   "cell_type": "markdown",
   "id": "49f68163",
   "metadata": {},
   "source": [
    "Import assigned data"
   ]
  },
  {
   "cell_type": "code",
   "execution_count": 12,
   "id": "e7b97ce5",
   "metadata": {},
   "outputs": [],
   "source": [
    "mb_org_data = pd.read_csv('Dataset_assigned_data_taken_from\\\\president_general_polls_2016.csv')\n",
    "# I have the FiveThirtyEight dataset one level deeper than the provided set within the folder laballed above"
   ]
  },
  {
   "cell_type": "markdown",
   "id": "8b777a1c",
   "metadata": {},
   "source": [
    "Import found data from FiveThirtyEight (testing if same dataset but raw)"
   ]
  },
  {
   "cell_type": "code",
   "execution_count": 13,
   "id": "ad4c2efa",
   "metadata": {},
   "outputs": [],
   "source": [
    "#as_data"
   ]
  },
  {
   "cell_type": "code",
   "execution_count": 14,
   "id": "a7857a6f",
   "metadata": {},
   "outputs": [],
   "source": [
    "#mb_org_data"
   ]
  },
  {
   "cell_type": "code",
   "execution_count": 15,
   "id": "62c6e5f4",
   "metadata": {},
   "outputs": [],
   "source": [
    "#working with possible origina dataset\n",
    "\n",
    "branches = mb_org_data['branch'].unique()\n",
    "#only 'President'\n",
    "\n",
    "pollsters = mb_org_data['pollster'].unique()\n",
    "pollsters_org = as_data['pollster'].unique()\n",
    "# both have same number of pollsters (196)\n",
    "\n",
    "#removing missing columns (first deep copy the set)\n",
    "m_data = mb_org_data.copy(deep=True)\n",
    "\n",
    "# identify columns not in both tables\n",
    "unique_cols = as_data.columns.append(m_data.columns).drop_duplicates(keep=False)\n",
    "\n",
    "# drop said columns from the FiveThirtyEight set\n",
    "m_data = m_data.drop(columns=unique_cols)\n",
    "\n",
    "# slice to same length as provided data\n",
    "m_data = m_data.iloc[:4208]"
   ]
  },
  {
   "cell_type": "code",
   "execution_count": 16,
   "id": "ac5e73de",
   "metadata": {},
   "outputs": [],
   "source": [
    "# working with both dataset with same columns and same number of rows, checking if row contents are same\n",
    "\n",
    "# because of different date formats checking all rows for columns pollster to end\n",
    "\n",
    "m_slice = m_data.iloc[:,3:]\n",
    "as_slice = as_data.iloc[:,3:]"
   ]
  },
  {
   "cell_type": "code",
   "execution_count": 18,
   "id": "2873f315",
   "metadata": {},
   "outputs": [
    {
     "data": {
      "text/plain": [
       "True"
      ]
     },
     "execution_count": 18,
     "metadata": {},
     "output_type": "execute_result"
    }
   ],
   "source": [
    "m_slice.equals(as_slice)"
   ]
  },
  {
   "cell_type": "markdown",
   "id": "6cc0b8e3",
   "metadata": {},
   "source": [
    "# So the data appears to be the same and we are using the FiveThirtyEight dataset cleaned and sliced to 4108 entries with high certainty\n",
    "\n",
    "- let me know if you think I've overlooked anything here"
   ]
  },
  {
   "cell_type": "code",
   "execution_count": null,
   "id": "bb0deb31",
   "metadata": {},
   "outputs": [],
   "source": []
  }
 ],
 "metadata": {
  "kernelspec": {
   "display_name": "Python 3 (ipykernel)",
   "language": "python",
   "name": "python3"
  },
  "language_info": {
   "codemirror_mode": {
    "name": "ipython",
    "version": 3
   },
   "file_extension": ".py",
   "mimetype": "text/x-python",
   "name": "python",
   "nbconvert_exporter": "python",
   "pygments_lexer": "ipython3",
   "version": "3.7.1"
  }
 },
 "nbformat": 4,
 "nbformat_minor": 5
}
